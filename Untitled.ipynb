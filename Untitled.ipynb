{
  "nbformat": 4,
  "nbformat_minor": 0,
  "metadata": {
    "kernelspec": {
      "display_name": "Python 3",
      "language": "python",
      "name": "python3"
    },
    "language_info": {
      "codemirror_mode": {
        "name": "ipython",
        "version": 3
      },
      "file_extension": ".py",
      "mimetype": "text/x-python",
      "name": "python",
      "nbconvert_exporter": "python",
      "pygments_lexer": "ipython3",
      "version": "3.7.4"
    },
    "colab": {
      "name": "Untitled.ipynb",
      "provenance": [],
      "include_colab_link": true
    }
  },
  "cells": [
    {
      "cell_type": "markdown",
      "metadata": {
        "id": "view-in-github",
        "colab_type": "text"
      },
      "source": [
        "<a href=\"https://colab.research.google.com/github/Nirmalasari16/Skripsi/blob/master/Untitled.ipynb\" target=\"_parent\"><img src=\"https://colab.research.google.com/assets/colab-badge.svg\" alt=\"Open In Colab\"/></a>"
      ]
    },
    {
      "cell_type": "code",
      "metadata": {
        "id": "9FhBRVva2Pzg",
        "colab_type": "code",
        "outputId": "a1c8c699-5e95-4e34-9b35-3ffd7aec1d56",
        "colab": {
          "base_uri": "https://localhost:8080/",
          "height": 125
        }
      },
      "source": [
        "from google.colab import drive\n",
        "drive.mount('/content/drive')"
      ],
      "execution_count": 0,
      "outputs": [
        {
          "output_type": "stream",
          "text": [
            "Go to this URL in a browser: https://accounts.google.com/o/oauth2/auth?client_id=947318989803-6bn6qk8qdgf4n4g3pfee6491hc0brc4i.apps.googleusercontent.com&redirect_uri=urn%3aietf%3awg%3aoauth%3a2.0%3aoob&response_type=code&scope=email%20https%3a%2f%2fwww.googleapis.com%2fauth%2fdocs.test%20https%3a%2f%2fwww.googleapis.com%2fauth%2fdrive%20https%3a%2f%2fwww.googleapis.com%2fauth%2fdrive.photos.readonly%20https%3a%2f%2fwww.googleapis.com%2fauth%2fpeopleapi.readonly\n",
            "\n",
            "Enter your authorization code:\n",
            "··········\n",
            "Mounted at /content/drive\n"
          ],
          "name": "stdout"
        }
      ]
    },
    {
      "cell_type": "code",
      "metadata": {
        "id": "TZ7TJlSwdwrb",
        "colab_type": "code",
        "colab": {}
      },
      "source": [
        "import pandas as pd\n",
        "import numpy as np\n",
        "\n",
        "from sklearn.model_selection import train_test_split\n",
        "from sklearn.preprocessing import StandardScaler\n",
        "from sklearn.naive_bayes import GaussianNB\n",
        "\n",
        "from sklearn.metrics import confusion_matrix\n",
        "from sklearn.metrics import f1_score\n",
        "from sklearn.metrics import accuracy_score\n",
        "from sklearn.metrics import precision_score\n",
        "from sklearn.metrics import recall_score\n",
        "from sklearn.metrics import classification_report\n",
        "\n",
        "from matplotlib import pyplot as plt"
      ],
      "execution_count": 0,
      "outputs": []
    },
    {
      "cell_type": "code",
      "metadata": {
        "id": "tf40x8FC1o_3",
        "colab_type": "code",
        "outputId": "e9e54207-8a2d-4b73-fd08-b2fcf42918e3",
        "colab": {
          "base_uri": "https://localhost:8080/",
          "height": 442
        }
      },
      "source": [
        "#load dataset\n",
        "datatrain = pd.read_csv('/content/drive/My Drive/dataset/cardio/dataset8020train_10.csv')\n",
        "datatest = pd.read_csv('/content/drive/My Drive/dataset/cardio/dataset8020test_10.csv')\n",
        "#dataset.Type.value_count().plot(kind= \"bar\")\n",
        "print (len(datatrain))\n",
        "print (len(datatest))\n",
        "datatrain"
      ],
      "execution_count": 0,
      "outputs": [
        {
          "output_type": "stream",
          "text": [
            "900\n",
            "100\n"
          ],
          "name": "stdout"
        },
        {
          "output_type": "execute_result",
          "data": {
            "text/html": [
              "<div>\n",
              "<style scoped>\n",
              "    .dataframe tbody tr th:only-of-type {\n",
              "        vertical-align: middle;\n",
              "    }\n",
              "\n",
              "    .dataframe tbody tr th {\n",
              "        vertical-align: top;\n",
              "    }\n",
              "\n",
              "    .dataframe thead th {\n",
              "        text-align: right;\n",
              "    }\n",
              "</style>\n",
              "<table border=\"1\" class=\"dataframe\">\n",
              "  <thead>\n",
              "    <tr style=\"text-align: right;\">\n",
              "      <th></th>\n",
              "      <th>id</th>\n",
              "      <th>age</th>\n",
              "      <th>gender</th>\n",
              "      <th>height</th>\n",
              "      <th>weight</th>\n",
              "      <th>ap_hi</th>\n",
              "      <th>ap_lo</th>\n",
              "      <th>cholesterol</th>\n",
              "      <th>gluc</th>\n",
              "      <th>smoke</th>\n",
              "      <th>alco</th>\n",
              "      <th>active</th>\n",
              "      <th>cardio</th>\n",
              "    </tr>\n",
              "  </thead>\n",
              "  <tbody>\n",
              "    <tr>\n",
              "      <th>0</th>\n",
              "      <td>1040</td>\n",
              "      <td>18996</td>\n",
              "      <td>1</td>\n",
              "      <td>179</td>\n",
              "      <td>129.0</td>\n",
              "      <td>140</td>\n",
              "      <td>90</td>\n",
              "      <td>3</td>\n",
              "      <td>3</td>\n",
              "      <td>0</td>\n",
              "      <td>0</td>\n",
              "      <td>0</td>\n",
              "      <td>1</td>\n",
              "    </tr>\n",
              "    <tr>\n",
              "      <th>1</th>\n",
              "      <td>1041</td>\n",
              "      <td>21298</td>\n",
              "      <td>1</td>\n",
              "      <td>159</td>\n",
              "      <td>63.0</td>\n",
              "      <td>110</td>\n",
              "      <td>70</td>\n",
              "      <td>3</td>\n",
              "      <td>3</td>\n",
              "      <td>0</td>\n",
              "      <td>0</td>\n",
              "      <td>1</td>\n",
              "      <td>1</td>\n",
              "    </tr>\n",
              "    <tr>\n",
              "      <th>2</th>\n",
              "      <td>1043</td>\n",
              "      <td>19681</td>\n",
              "      <td>2</td>\n",
              "      <td>165</td>\n",
              "      <td>72.0</td>\n",
              "      <td>120</td>\n",
              "      <td>80</td>\n",
              "      <td>1</td>\n",
              "      <td>1</td>\n",
              "      <td>0</td>\n",
              "      <td>0</td>\n",
              "      <td>1</td>\n",
              "      <td>1</td>\n",
              "    </tr>\n",
              "    <tr>\n",
              "      <th>3</th>\n",
              "      <td>1045</td>\n",
              "      <td>21023</td>\n",
              "      <td>1</td>\n",
              "      <td>170</td>\n",
              "      <td>81.0</td>\n",
              "      <td>170</td>\n",
              "      <td>90</td>\n",
              "      <td>3</td>\n",
              "      <td>3</td>\n",
              "      <td>0</td>\n",
              "      <td>0</td>\n",
              "      <td>0</td>\n",
              "      <td>1</td>\n",
              "    </tr>\n",
              "    <tr>\n",
              "      <th>4</th>\n",
              "      <td>1052</td>\n",
              "      <td>22801</td>\n",
              "      <td>1</td>\n",
              "      <td>164</td>\n",
              "      <td>79.0</td>\n",
              "      <td>130</td>\n",
              "      <td>80</td>\n",
              "      <td>3</td>\n",
              "      <td>2</td>\n",
              "      <td>0</td>\n",
              "      <td>0</td>\n",
              "      <td>1</td>\n",
              "      <td>1</td>\n",
              "    </tr>\n",
              "    <tr>\n",
              "      <th>...</th>\n",
              "      <td>...</td>\n",
              "      <td>...</td>\n",
              "      <td>...</td>\n",
              "      <td>...</td>\n",
              "      <td>...</td>\n",
              "      <td>...</td>\n",
              "      <td>...</td>\n",
              "      <td>...</td>\n",
              "      <td>...</td>\n",
              "      <td>...</td>\n",
              "      <td>...</td>\n",
              "      <td>...</td>\n",
              "      <td>...</td>\n",
              "    </tr>\n",
              "    <tr>\n",
              "      <th>895</th>\n",
              "      <td>1101</td>\n",
              "      <td>17285</td>\n",
              "      <td>1</td>\n",
              "      <td>167</td>\n",
              "      <td>75.0</td>\n",
              "      <td>100</td>\n",
              "      <td>70</td>\n",
              "      <td>1</td>\n",
              "      <td>1</td>\n",
              "      <td>0</td>\n",
              "      <td>0</td>\n",
              "      <td>1</td>\n",
              "      <td>0</td>\n",
              "    </tr>\n",
              "    <tr>\n",
              "      <th>896</th>\n",
              "      <td>1106</td>\n",
              "      <td>16003</td>\n",
              "      <td>1</td>\n",
              "      <td>159</td>\n",
              "      <td>77.0</td>\n",
              "      <td>120</td>\n",
              "      <td>80</td>\n",
              "      <td>1</td>\n",
              "      <td>1</td>\n",
              "      <td>0</td>\n",
              "      <td>0</td>\n",
              "      <td>1</td>\n",
              "      <td>0</td>\n",
              "    </tr>\n",
              "    <tr>\n",
              "      <th>897</th>\n",
              "      <td>1107</td>\n",
              "      <td>22826</td>\n",
              "      <td>1</td>\n",
              "      <td>162</td>\n",
              "      <td>65.0</td>\n",
              "      <td>140</td>\n",
              "      <td>90</td>\n",
              "      <td>3</td>\n",
              "      <td>3</td>\n",
              "      <td>0</td>\n",
              "      <td>0</td>\n",
              "      <td>1</td>\n",
              "      <td>0</td>\n",
              "    </tr>\n",
              "    <tr>\n",
              "      <th>898</th>\n",
              "      <td>1111</td>\n",
              "      <td>23203</td>\n",
              "      <td>2</td>\n",
              "      <td>172</td>\n",
              "      <td>74.0</td>\n",
              "      <td>140</td>\n",
              "      <td>70</td>\n",
              "      <td>2</td>\n",
              "      <td>1</td>\n",
              "      <td>1</td>\n",
              "      <td>0</td>\n",
              "      <td>1</td>\n",
              "      <td>0</td>\n",
              "    </tr>\n",
              "    <tr>\n",
              "      <th>899</th>\n",
              "      <td>1112</td>\n",
              "      <td>22711</td>\n",
              "      <td>2</td>\n",
              "      <td>171</td>\n",
              "      <td>68.0</td>\n",
              "      <td>120</td>\n",
              "      <td>80</td>\n",
              "      <td>1</td>\n",
              "      <td>1</td>\n",
              "      <td>0</td>\n",
              "      <td>0</td>\n",
              "      <td>0</td>\n",
              "      <td>0</td>\n",
              "    </tr>\n",
              "  </tbody>\n",
              "</table>\n",
              "<p>900 rows × 13 columns</p>\n",
              "</div>"
            ],
            "text/plain": [
              "       id    age  gender  height  weight  ...  gluc  smoke  alco  active  cardio\n",
              "0    1040  18996       1     179   129.0  ...     3      0     0       0       1\n",
              "1    1041  21298       1     159    63.0  ...     3      0     0       1       1\n",
              "2    1043  19681       2     165    72.0  ...     1      0     0       1       1\n",
              "3    1045  21023       1     170    81.0  ...     3      0     0       0       1\n",
              "4    1052  22801       1     164    79.0  ...     2      0     0       1       1\n",
              "..    ...    ...     ...     ...     ...  ...   ...    ...   ...     ...     ...\n",
              "895  1101  17285       1     167    75.0  ...     1      0     0       1       0\n",
              "896  1106  16003       1     159    77.0  ...     1      0     0       1       0\n",
              "897  1107  22826       1     162    65.0  ...     3      0     0       1       0\n",
              "898  1111  23203       2     172    74.0  ...     1      1     0       1       0\n",
              "899  1112  22711       2     171    68.0  ...     1      0     0       0       0\n",
              "\n",
              "[900 rows x 13 columns]"
            ]
          },
          "metadata": {
            "tags": []
          },
          "execution_count": 206
        }
      ]
    },
    {
      "cell_type": "code",
      "metadata": {
        "id": "wjdI0OLX1pAP",
        "colab_type": "code",
        "outputId": "d9664cbe-526e-4f99-8e9d-98697ca56d5a",
        "colab": {
          "base_uri": "https://localhost:8080/",
          "height": 230
        }
      },
      "source": [
        "#split target and attribute\n",
        "\n",
        "x_train = datatrain.iloc[:, 1:12]\n",
        "y_train = datatrain.iloc[:, 12]\n",
        "x_test = datatest.iloc[:, 1:12]\n",
        "y_test = datatest.iloc[:, 12]\n",
        "y_test"
      ],
      "execution_count": 0,
      "outputs": [
        {
          "output_type": "execute_result",
          "data": {
            "text/plain": [
              "0     1\n",
              "1     1\n",
              "2     1\n",
              "3     1\n",
              "4     1\n",
              "     ..\n",
              "95    0\n",
              "96    0\n",
              "97    0\n",
              "98    0\n",
              "99    0\n",
              "Name: cardio, Length: 100, dtype: int64"
            ]
          },
          "metadata": {
            "tags": []
          },
          "execution_count": 207
        }
      ]
    },
    {
      "cell_type": "code",
      "metadata": {
        "id": "HIk7PrSZ1pAd",
        "colab_type": "code",
        "outputId": "226b25f1-62c7-4ff6-c772-478286bb7521",
        "colab": {
          "base_uri": "https://localhost:8080/",
          "height": 176
        }
      },
      "source": [
        "x_train\n",
        "x_test\n",
        "y_train\n",
        "len(y_test)\n",
        "\n",
        "plt.figure(figsize=(5,4))\n",
        "plt.subplot(2,2,1);y_train.value_counts().plot(kind='bar', color=['C0','C1','C2','C3','C4','C5','C6']);plt.title('training')\n",
        "plt.subplot(2,2,2);y_test.value_counts().plot(kind='bar', color=['C0','C1','C2','C3','C4','C5','C6']);plt.title('testing')\n"
      ],
      "execution_count": 0,
      "outputs": [
        {
          "output_type": "execute_result",
          "data": {
            "text/plain": [
              "Text(0.5, 1.0, 'testing')"
            ]
          },
          "metadata": {
            "tags": []
          },
          "execution_count": 198
        },
        {
          "output_type": "display_data",
          "data": {
            "image/png": "[encoded data removed]",
            "text/plain": [
              "<Figure size 360x288 with 2 Axes>"
            ]
          },
          "metadata": {
            "tags": [],
            "needs_background": "light"
          }
        }
      ]
    },
    {
      "cell_type": "code",
      "metadata": {
        "id": "pdKcuC1v1pA8",
        "colab_type": "code",
        "outputId": "d0b5e116-83e4-4c77-c321-55b3ffa45163",
        "colab": {
          "base_uri": "https://localhost:8080/",
          "height": 34
        }
      },
      "source": [
        "#choose method and fitting\n",
        "model = GaussianNB()\n",
        "model.fit (x_train, y_train)"
      ],
      "execution_count": 0,
      "outputs": [
        {
          "output_type": "execute_result",
          "data": {
            "text/plain": [
              "GaussianNB(priors=None, var_smoothing=1e-09)"
            ]
          },
          "metadata": {
            "tags": []
          },
          "execution_count": 208
        }
      ]
    },
    {
      "cell_type": "code",
      "metadata": {
        "id": "gwZF8p5q1pBG",
        "colab_type": "code",
        "outputId": "70f74220-6cee-4a46-ce8b-f0fe192ac077",
        "colab": {
          "base_uri": "https://localhost:8080/",
          "height": 105
        }
      },
      "source": [
        "#testing data\n",
        "y_pred = model.predict(x_test)\n",
        "y_pred"
      ],
      "execution_count": 0,
      "outputs": [
        {
          "output_type": "execute_result",
          "data": {
            "text/plain": [
              "array([0, 1, 1, 0, 0, 0, 0, 1, 0, 1, 0, 1, 1, 1, 0, 1, 0, 1, 1, 1, 0, 0,\n",
              "       0, 1, 1, 0, 1, 0, 1, 0, 0, 1, 0, 0, 1, 1, 1, 0, 0, 1, 1, 0, 0, 1,\n",
              "       1, 1, 1, 1, 0, 1, 1, 1, 0, 0, 0, 0, 0, 1, 0, 1, 1, 0, 0, 1, 0, 0,\n",
              "       0, 1, 0, 1, 1, 0, 1, 1, 0, 1, 0, 0, 1, 1, 0, 1, 0, 0, 0, 0, 1, 0,\n",
              "       0, 0, 1, 0, 1, 0, 0, 0, 1, 0, 0, 0])"
            ]
          },
          "metadata": {
            "tags": []
          },
          "execution_count": 209
        }
      ]
    },
    {
      "cell_type": "code",
      "metadata": {
        "id": "nIkCZ9f21pBP",
        "colab_type": "code",
        "outputId": "dbb71731-b8cd-4a3b-9773-e25c84c89f6a",
        "colab": {
          "base_uri": "https://localhost:8080/",
          "height": 123
        }
      },
      "source": [
        "#print result\n",
        "cm = confusion_matrix(y_test , y_pred)\n",
        "print (cm)\n",
        "print(\"akurasi :\" , accuracy_score(y_test, y_pred))\n",
        "print(\"presisi :\" , precision_score(y_test, y_pred,average=None))\n",
        "print(\"recall :\" , recall_score(y_test, y_pred,average=None))\n",
        "print(\"f1-score :\" , f1_score(y_test, y_pred,average=None))"
      ],
      "execution_count": 0,
      "outputs": [
        {
          "output_type": "stream",
          "text": [
            "[[15  5]\n",
            " [39 41]]\n",
            "akurasi : 0.56\n",
            "presisi : [0.27777778 0.89130435]\n",
            "recall : [0.75   0.5125]\n",
            "f1-score : [0.40540541 0.65079365]\n"
          ],
          "name": "stdout"
        }
      ]
    },
    {
      "cell_type": "code",
      "metadata": {
        "id": "B_6VbKD3kw0Q",
        "colab_type": "code",
        "colab": {}
      },
      "source": [
        ""
      ],
      "execution_count": 0,
      "outputs": []
    },
    {
      "cell_type": "code",
      "metadata": {
        "id": "uOeeGCe51pBZ",
        "colab_type": "code",
        "outputId": "fe8c30f6-df65-445e-8d23-e2535b6a20d9",
        "colab": {
          "base_uri": "https://localhost:8080/",
          "height": 294
        }
      },
      "source": [
        "from matplotlib import pyplot as plot\n",
        "x = [\"cv1\", \"cv2\", \"cv3\", \"cv4\", \"cv5\",\"cv6\",\"cv7\",\"cv8\",\"cv9\",\"cv10\"]\n",
        "a= [59,57,60,61,63,58,58,61,57,56]\n",
        "p= [30,29,31,32,33,29,31,32,29,27]\n",
        "r= [80,80,85,85,90,84,95,90,85,75]\n",
        "f= [43,42,45,46,49,43,47,48,44,40]\n",
        "plt.plot(x, a, '--')\n",
        "plt.plot(x, p, '--')\n",
        "plt.plot(x, r, '--')\n",
        "plt.plot(x, f, '--')\n",
        "plt.title(\"grafik result dataset 80:20\")\n",
        "plt.xlabel(\"cross validation\")\n",
        "plt.ylabel(\"performa \")\n",
        "plt.legend([\"akurasi\",\"presisi\", \"recall\", \"f1-score\"])\n",
        "plt.grid()\n",
        "plt.show()\n",
        "\n"
      ],
      "execution_count": 0,
      "outputs": [
        {
          "output_type": "display_data",
          "data": {
            "image/png": "[encoded data removed]",
            "text/plain": [
              "<Figure size 432x288 with 1 Axes>"
            ]
          },
          "metadata": {
            "tags": [],
            "needs_background": "light"
          }
        }
      ]
    },
    {
      "cell_type": "code",
      "metadata": {
        "id": "eUtnqUEU1pBk",
        "colab_type": "code",
        "outputId": "b3eb7751-3879-414e-adde-01c7315b2210",
        "colab": {
          "base_uri": "https://localhost:8080/",
          "height": 312
        }
      },
      "source": [
        "fig1, ax1 = plt.subplots()\n",
        "\n",
        "#akurasi\n",
        "all_data = [\n",
        "            [79,80,79,81,75,82,82,78,79,80],\n",
        "            [64,68,64,65,36,69,70,67,56,64],\n",
        "            [59,57,60,61,63,58,58,61,57,56],\n",
        "          ]\n",
        "print(all_data)\n",
        "\n",
        "# plot box plot\n",
        "ax1.boxplot(all_data)\n",
        "ax1.set_title('Box plot performa naive bayes')\n",
        "\n",
        "# adding horizontal grid lines\n",
        "\n",
        "ax1.yaxis.grid(True)\n",
        "ax1.set_xticks([y + 1 for y in range(len(all_data))])\n",
        "ax1.set_xlabel('rasio dataset')\n",
        "ax1.set_ylabel('performa akurasi')\n",
        "\n",
        "# add x-tick labels\n",
        "plt.setp(ax1, xticks=[y + 1 for y in range(len(all_data))],\n",
        "         xticklabels=['20:80', '50:50', '20:80'])\n",
        "plt.show()"
      ],
      "execution_count": 0,
      "outputs": [
        {
          "output_type": "stream",
          "text": [
            "[[79, 80, 79, 81, 75, 82, 82, 78, 79, 80], [64, 68, 64, 65, 36, 69, 70, 67, 56, 64], [59, 57, 60, 61, 63, 58, 58, 61, 57, 56]]\n"
          ],
          "name": "stdout"
        },
        {
          "output_type": "display_data",
          "data": {
            "image/png": "[encoded data removed]",
            "text/plain": [
              "<Figure size 432x288 with 1 Axes>"
            ]
          },
          "metadata": {
            "tags": [],
            "needs_background": "light"
          }
        }
      ]
    },
    {
      "cell_type": "code",
      "metadata": {
        "id": "paGkYk5M1pB0",
        "colab_type": "code",
        "colab": {}
      },
      "source": [
        ""
      ],
      "execution_count": 0,
      "outputs": []
    },
    {
      "cell_type": "code",
      "metadata": {
        "id": "p4KjYyou1pB7",
        "colab_type": "code",
        "colab": {}
      },
      "source": [
        ""
      ],
      "execution_count": 0,
      "outputs": []
    },
    {
      "cell_type": "code",
      "metadata": {
        "id": "Khi-7Jpy1pCD",
        "colab_type": "code",
        "colab": {}
      },
      "source": [
        ""
      ],
      "execution_count": 0,
      "outputs": []
    },
    {
      "cell_type": "code",
      "metadata": {
        "id": "GR_Fu3vL1pCK",
        "colab_type": "code",
        "colab": {}
      },
      "source": [
        ""
      ],
      "execution_count": 0,
      "outputs": []
    }
  ]
}