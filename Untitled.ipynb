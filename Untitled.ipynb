{
  "nbformat": 4,
  "nbformat_minor": 0,
  "metadata": {
    "kernelspec": {
      "display_name": "Python 3",
      "language": "python",
      "name": "python3"
    },
    "language_info": {
      "codemirror_mode": {
        "name": "ipython",
        "version": 3
      },
      "file_extension": ".py",
      "mimetype": "text/x-python",
      "name": "python",
      "nbconvert_exporter": "python",
      "pygments_lexer": "ipython3",
      "version": "3.7.4"
    },
    "colab": {
      "name": "Untitled.ipynb",
      "provenance": [],
      "include_colab_link": true
    }
  },
  "cells": [
    {
      "cell_type": "markdown",
      "metadata": {
        "id": "view-in-github",
        "colab_type": "text"
      },
      "source": [
        "<a href=\"https://colab.research.google.com/github/Nirmalasari16/Skripsi/blob/master/Untitled.ipynb\" target=\"_parent\"><img src=\"https://colab.research.google.com/assets/colab-badge.svg\" alt=\"Open In Colab\"/></a>"
      ]
    },
    {
      "cell_type": "code",
      "metadata": {
        "id": "9FhBRVva2Pzg",
        "colab_type": "code",
        "outputId": "c7f4c98c-6445-44af-a9b4-2cdb1a8c68a5",
        "colab": {
          "base_uri": "https://localhost:8080/",
          "height": 54
        }
      },
      "source": [
        "from google.colab import drive\n",
        "drive.mount('/content/drive')"
      ],
      "execution_count": 106,
      "outputs": [
        {
          "output_type": "stream",
          "text": [
            "Drive already mounted at /content/drive; to attempt to forcibly remount, call drive.mount(\"/content/drive\", force_remount=True).\n"
          ],
          "name": "stdout"
        }
      ]
    },
    {
      "cell_type": "code",
      "metadata": {
        "id": "TZ7TJlSwdwrb",
        "colab_type": "code",
        "colab": {}
      },
      "source": [
        "import pandas as pd\n",
        "import numpy as np\n",
        "\n",
        "from sklearn.model_selection import train_test_split\n",
        "from sklearn.preprocessing import StandardScaler\n",
        "from sklearn.naive_bayes import GaussianNB\n",
        "\n",
        "from sklearn.metrics import confusion_matrix\n",
        "from sklearn.metrics import f1_score\n",
        "from sklearn.metrics import accuracy_score\n",
        "from sklearn.metrics import precision_score\n",
        "from sklearn.metrics import recall_score\n",
        "from sklearn.metrics import classification_report\n",
        "\n",
        "from matplotlib import pyplot as plt"
      ],
      "execution_count": 0,
      "outputs": []
    },
    {
      "cell_type": "code",
      "metadata": {
        "id": "tf40x8FC1o_3",
        "colab_type": "code",
        "outputId": "89df6feb-cd35-4308-d8a0-6aa8be58b2db",
        "colab": {
          "base_uri": "https://localhost:8080/",
          "height": 453
        }
      },
      "source": [
        "#load dataset\n",
        "datatrain = pd.read_csv('/content/drive/My Drive/dataset/cardio/dataset8020train_8.csv')\n",
        "datatest = pd.read_csv('/content/drive/My Drive/dataset/cardio/dataset8020test_8.csv')\n",
        "#dataset.Type.value_count().plot(kind= \"bar\")\n",
        "print (len(datatrain))\n",
        "print (len(datatest))\n",
        "datatrain"
      ],
      "execution_count": 227,
      "outputs": [
        {
          "output_type": "stream",
          "text": [
            "900\n",
            "100\n"
          ],
          "name": "stdout"
        },
        {
          "output_type": "execute_result",
          "data": {
            "text/html": [
              "<div>\n",
              "<style scoped>\n",
              "    .dataframe tbody tr th:only-of-type {\n",
              "        vertical-align: middle;\n",
              "    }\n",
              "\n",
              "    .dataframe tbody tr th {\n",
              "        vertical-align: top;\n",
              "    }\n",
              "\n",
              "    .dataframe thead th {\n",
              "        text-align: right;\n",
              "    }\n",
              "</style>\n",
              "<table border=\"1\" class=\"dataframe\">\n",
              "  <thead>\n",
              "    <tr style=\"text-align: right;\">\n",
              "      <th></th>\n",
              "      <th>id</th>\n",
              "      <th>age</th>\n",
              "      <th>gender</th>\n",
              "      <th>height</th>\n",
              "      <th>weight</th>\n",
              "      <th>ap_hi</th>\n",
              "      <th>ap_lo</th>\n",
              "      <th>cholesterol</th>\n",
              "      <th>gluc</th>\n",
              "      <th>smoke</th>\n",
              "      <th>alco</th>\n",
              "      <th>active</th>\n",
              "      <th>cardio</th>\n",
              "    </tr>\n",
              "  </thead>\n",
              "  <tbody>\n",
              "    <tr>\n",
              "      <th>0</th>\n",
              "      <td>1040</td>\n",
              "      <td>18996</td>\n",
              "      <td>1</td>\n",
              "      <td>179</td>\n",
              "      <td>129.0</td>\n",
              "      <td>140</td>\n",
              "      <td>90</td>\n",
              "      <td>3</td>\n",
              "      <td>3</td>\n",
              "      <td>0</td>\n",
              "      <td>0</td>\n",
              "      <td>0</td>\n",
              "      <td>1</td>\n",
              "    </tr>\n",
              "    <tr>\n",
              "      <th>1</th>\n",
              "      <td>1041</td>\n",
              "      <td>21298</td>\n",
              "      <td>1</td>\n",
              "      <td>159</td>\n",
              "      <td>63.0</td>\n",
              "      <td>110</td>\n",
              "      <td>70</td>\n",
              "      <td>3</td>\n",
              "      <td>3</td>\n",
              "      <td>0</td>\n",
              "      <td>0</td>\n",
              "      <td>1</td>\n",
              "      <td>1</td>\n",
              "    </tr>\n",
              "    <tr>\n",
              "      <th>2</th>\n",
              "      <td>1043</td>\n",
              "      <td>19681</td>\n",
              "      <td>2</td>\n",
              "      <td>165</td>\n",
              "      <td>72.0</td>\n",
              "      <td>120</td>\n",
              "      <td>80</td>\n",
              "      <td>1</td>\n",
              "      <td>1</td>\n",
              "      <td>0</td>\n",
              "      <td>0</td>\n",
              "      <td>1</td>\n",
              "      <td>1</td>\n",
              "    </tr>\n",
              "    <tr>\n",
              "      <th>3</th>\n",
              "      <td>1045</td>\n",
              "      <td>21023</td>\n",
              "      <td>1</td>\n",
              "      <td>170</td>\n",
              "      <td>81.0</td>\n",
              "      <td>170</td>\n",
              "      <td>90</td>\n",
              "      <td>3</td>\n",
              "      <td>3</td>\n",
              "      <td>0</td>\n",
              "      <td>0</td>\n",
              "      <td>0</td>\n",
              "      <td>1</td>\n",
              "    </tr>\n",
              "    <tr>\n",
              "      <th>4</th>\n",
              "      <td>1052</td>\n",
              "      <td>22801</td>\n",
              "      <td>1</td>\n",
              "      <td>164</td>\n",
              "      <td>79.0</td>\n",
              "      <td>130</td>\n",
              "      <td>80</td>\n",
              "      <td>3</td>\n",
              "      <td>2</td>\n",
              "      <td>0</td>\n",
              "      <td>0</td>\n",
              "      <td>1</td>\n",
              "      <td>1</td>\n",
              "    </tr>\n",
              "    <tr>\n",
              "      <th>...</th>\n",
              "      <td>...</td>\n",
              "      <td>...</td>\n",
              "      <td>...</td>\n",
              "      <td>...</td>\n",
              "      <td>...</td>\n",
              "      <td>...</td>\n",
              "      <td>...</td>\n",
              "      <td>...</td>\n",
              "      <td>...</td>\n",
              "      <td>...</td>\n",
              "      <td>...</td>\n",
              "      <td>...</td>\n",
              "      <td>...</td>\n",
              "    </tr>\n",
              "    <tr>\n",
              "      <th>895</th>\n",
              "      <td>1101</td>\n",
              "      <td>17285</td>\n",
              "      <td>1</td>\n",
              "      <td>167</td>\n",
              "      <td>75.0</td>\n",
              "      <td>100</td>\n",
              "      <td>70</td>\n",
              "      <td>1</td>\n",
              "      <td>1</td>\n",
              "      <td>0</td>\n",
              "      <td>0</td>\n",
              "      <td>1</td>\n",
              "      <td>0</td>\n",
              "    </tr>\n",
              "    <tr>\n",
              "      <th>896</th>\n",
              "      <td>1106</td>\n",
              "      <td>16003</td>\n",
              "      <td>1</td>\n",
              "      <td>159</td>\n",
              "      <td>77.0</td>\n",
              "      <td>120</td>\n",
              "      <td>80</td>\n",
              "      <td>1</td>\n",
              "      <td>1</td>\n",
              "      <td>0</td>\n",
              "      <td>0</td>\n",
              "      <td>1</td>\n",
              "      <td>0</td>\n",
              "    </tr>\n",
              "    <tr>\n",
              "      <th>897</th>\n",
              "      <td>1107</td>\n",
              "      <td>22826</td>\n",
              "      <td>1</td>\n",
              "      <td>162</td>\n",
              "      <td>65.0</td>\n",
              "      <td>140</td>\n",
              "      <td>90</td>\n",
              "      <td>3</td>\n",
              "      <td>3</td>\n",
              "      <td>0</td>\n",
              "      <td>0</td>\n",
              "      <td>1</td>\n",
              "      <td>0</td>\n",
              "    </tr>\n",
              "    <tr>\n",
              "      <th>898</th>\n",
              "      <td>1111</td>\n",
              "      <td>23203</td>\n",
              "      <td>2</td>\n",
              "      <td>172</td>\n",
              "      <td>74.0</td>\n",
              "      <td>140</td>\n",
              "      <td>70</td>\n",
              "      <td>2</td>\n",
              "      <td>1</td>\n",
              "      <td>1</td>\n",
              "      <td>0</td>\n",
              "      <td>1</td>\n",
              "      <td>0</td>\n",
              "    </tr>\n",
              "    <tr>\n",
              "      <th>899</th>\n",
              "      <td>1112</td>\n",
              "      <td>22711</td>\n",
              "      <td>2</td>\n",
              "      <td>171</td>\n",
              "      <td>68.0</td>\n",
              "      <td>120</td>\n",
              "      <td>80</td>\n",
              "      <td>1</td>\n",
              "      <td>1</td>\n",
              "      <td>0</td>\n",
              "      <td>0</td>\n",
              "      <td>0</td>\n",
              "      <td>0</td>\n",
              "    </tr>\n",
              "  </tbody>\n",
              "</table>\n",
              "<p>900 rows × 13 columns</p>\n",
              "</div>"
            ],
            "text/plain": [
              "       id    age  gender  height  weight  ...  gluc  smoke  alco  active  cardio\n",
              "0    1040  18996       1     179   129.0  ...     3      0     0       0       1\n",
              "1    1041  21298       1     159    63.0  ...     3      0     0       1       1\n",
              "2    1043  19681       2     165    72.0  ...     1      0     0       1       1\n",
              "3    1045  21023       1     170    81.0  ...     3      0     0       0       1\n",
              "4    1052  22801       1     164    79.0  ...     2      0     0       1       1\n",
              "..    ...    ...     ...     ...     ...  ...   ...    ...   ...     ...     ...\n",
              "895  1101  17285       1     167    75.0  ...     1      0     0       1       0\n",
              "896  1106  16003       1     159    77.0  ...     1      0     0       1       0\n",
              "897  1107  22826       1     162    65.0  ...     3      0     0       1       0\n",
              "898  1111  23203       2     172    74.0  ...     1      1     0       1       0\n",
              "899  1112  22711       2     171    68.0  ...     1      0     0       0       0\n",
              "\n",
              "[900 rows x 13 columns]"
            ]
          },
          "metadata": {
            "tags": []
          },
          "execution_count": 227
        }
      ]
    },
    {
      "cell_type": "code",
      "metadata": {
        "id": "wjdI0OLX1pAP",
        "colab_type": "code",
        "colab": {}
      },
      "source": [
        "#split target and attribute\n",
        "\n",
        "x_train = datatrain.iloc[:, 1:12]\n",
        "y_train = datatrain.iloc[:, 12]\n",
        "x_test = datatest.iloc[:, 1:12]\n",
        "y_test = datatest.iloc[:, 12]\n",
        "y_test"
      ],
      "execution_count": 0,
      "outputs": []
    },
    {
      "cell_type": "code",
      "metadata": {
        "id": "HIk7PrSZ1pAd",
        "colab_type": "code",
        "outputId": "0a3bb232-e094-482d-ef40-279e4e25785d",
        "colab": {
          "base_uri": "https://localhost:8080/",
          "height": 176
        }
      },
      "source": [
        "x_train\n",
        "x_test\n",
        "y_train\n",
        "len(y_test)\n",
        "\n",
        "plt.figure(figsize=(5,4))\n",
        "plt.subplot(2,2,1);y_train.value_counts().plot(kind='bar', color=['C0','C1','C2','C3','C4','C5','C6']);plt.title('training')\n",
        "plt.subplot(2,2,2);y_test.value_counts().plot(kind='bar', color=['C0','C1','C2','C3','C4','C5','C6']);plt.title('testing')\n"
      ],
      "execution_count": 228,
      "outputs": [
        {
          "output_type": "execute_result",
          "data": {
            "text/plain": [
              "Text(0.5, 1.0, 'testing')"
            ]
          },
          "metadata": {
            "tags": []
          },
          "execution_count": 228
        },
        {
          "output_type": "display_data",
          "data": {
            "image/png": "[encoded data removed]",
            "text/plain": [
              "<Figure size 360x288 with 2 Axes>"
            ]
          },
          "metadata": {
            "tags": [],
            "needs_background": "light"
          }
        }
      ]
    },
    {
      "cell_type": "code",
      "metadata": {
        "id": "pdKcuC1v1pA8",
        "colab_type": "code",
        "outputId": "e770aba1-3157-4e42-cdb7-aad03d57ff61",
        "colab": {
          "base_uri": "https://localhost:8080/",
          "height": 34
        }
      },
      "source": [
        "#choose method and fitting\n",
        "model = GaussianNB()\n",
        "model.fit (x_train, y_train)"
      ],
      "execution_count": 229,
      "outputs": [
        {
          "output_type": "execute_result",
          "data": {
            "text/plain": [
              "GaussianNB(priors=None, var_smoothing=1e-09)"
            ]
          },
          "metadata": {
            "tags": []
          },
          "execution_count": 229
        }
      ]
    },
    {
      "cell_type": "code",
      "metadata": {
        "id": "gwZF8p5q1pBG",
        "colab_type": "code",
        "colab": {}
      },
      "source": [
        "#testing data\n",
        "y_pred = model.predict(x_test)\n",
        "y_pred"
      ],
      "execution_count": 0,
      "outputs": []
    },
    {
      "cell_type": "code",
      "metadata": {
        "id": "nIkCZ9f21pBP",
        "colab_type": "code",
        "colab": {}
      },
      "source": [
        "#print result\n",
        "cm = confusion_matrix(y_test , y_pred)\n",
        "print (cm)\n",
        "print(\"akurasi :\" , accuracy_score(y_test, y_pred))\n",
        "print(\"presisi :\" , precision_score(y_test, y_pred))\n",
        "print(\"recall :\" , recall_score(y_test, y_pred))\n",
        "print(\"f1-score :\" , f1_score(y_test, y_pred))"
      ],
      "execution_count": 0,
      "outputs": []
    },
    {
      "cell_type": "code",
      "metadata": {
        "id": "uOeeGCe51pBZ",
        "colab_type": "code",
        "outputId": "16a591d1-6d3e-4210-87e7-2d78945f2ac6",
        "colab": {
          "base_uri": "https://localhost:8080/",
          "height": 295
        }
      },
      "source": [
        "from matplotlib import pyplot as plot\n",
        "x = [\"cv1\", \"cv2\", \"cv3\", \"cv4\", \"cv5\"]\n",
        "a= [80,83,81,84,85]\n",
        "p= [10,5,0,1,12]\n",
        "r= [90,91,93,98,92]\n",
        "f= [40,23,45,77,99]\n",
        "plt.plot(x, a, '--')\n",
        "plt.plot(x, p, '--')\n",
        "plt.plot(x, r, '--')\n",
        "plt.plot(x, f, '--')\n",
        "plt.title(\"grafik result dataset 8020\")\n",
        "plt.xlabel(\"cross validation\")\n",
        "plt.ylabel(\"performa \")\n",
        "plt.legend([\"akurasi\",\"presisi\", \"recall\", \"f1-score\"])\n",
        "plt.grid()\n",
        "plt.show()\n",
        "\n"
      ],
      "execution_count": 178,
      "outputs": [
        {
          "output_type": "display_data",
          "data": {
            "image/png": "[encoded data removed]",
            "text/plain": [
              "<Figure size 432x288 with 1 Axes>"
            ]
          },
          "metadata": {
            "tags": [],
            "needs_background": "light"
          }
        }
      ]
    },
    {
      "cell_type": "code",
      "metadata": {
        "id": "eUtnqUEU1pBk",
        "colab_type": "code",
        "colab": {}
      },
      "source": [
        ""
      ],
      "execution_count": 0,
      "outputs": []
    },
    {
      "cell_type": "code",
      "metadata": {
        "id": "paGkYk5M1pB0",
        "colab_type": "code",
        "colab": {}
      },
      "source": [
        ""
      ],
      "execution_count": 0,
      "outputs": []
    },
    {
      "cell_type": "code",
      "metadata": {
        "id": "p4KjYyou1pB7",
        "colab_type": "code",
        "colab": {}
      },
      "source": [
        ""
      ],
      "execution_count": 0,
      "outputs": []
    },
    {
      "cell_type": "code",
      "metadata": {
        "id": "Khi-7Jpy1pCD",
        "colab_type": "code",
        "colab": {}
      },
      "source": [
        ""
      ],
      "execution_count": 0,
      "outputs": []
    },
    {
      "cell_type": "code",
      "metadata": {
        "id": "GR_Fu3vL1pCK",
        "colab_type": "code",
        "colab": {}
      },
      "source": [
        ""
      ],
      "execution_count": 0,
      "outputs": []
    }
  ]
}